{
 "cells": [
  {
   "cell_type": "code",
   "execution_count": 14,
   "metadata": {},
   "outputs": [
    {
     "name": "stdout",
     "output_type": "stream",
     "text": [
      "Defaulting to user installation because normal site-packages is not writeable\n",
      "Requirement already satisfied: pymongo in c:\\users\\wasadmin\\appdata\\roaming\\python\\python312\\site-packages (4.11.3)\n",
      "Requirement already satisfied: faker in c:\\users\\wasadmin\\appdata\\roaming\\python\\python312\\site-packages (37.0.0)\n",
      "Requirement already satisfied: dnspython<3.0.0,>=1.16.0 in c:\\users\\wasadmin\\appdata\\roaming\\python\\python312\\site-packages (from pymongo) (2.7.0)\n",
      "Requirement already satisfied: tzdata in c:\\users\\wasadmin\\appdata\\roaming\\python\\python312\\site-packages (from faker) (2024.1)\n"
     ]
    },
    {
     "name": "stderr",
     "output_type": "stream",
     "text": [
      "\n",
      "[notice] A new release of pip is available: 24.0 -> 25.0.1\n",
      "[notice] To update, run: python.exe -m pip install --upgrade pip\n"
     ]
    },
    {
     "name": "stdout",
     "output_type": "stream",
     "text": [
      "Defaulting to user installation because normal site-packages is not writeablePackages installed\n",
      "\n",
      "Requirement already satisfied: faker-commerce in c:\\users\\wasadmin\\appdata\\roaming\\python\\python312\\site-packages (1.0.4)\n",
      "Requirement already satisfied: faker in c:\\users\\wasadmin\\appdata\\roaming\\python\\python312\\site-packages (from faker-commerce) (37.0.0)\n",
      "Requirement already satisfied: tzdata in c:\\users\\wasadmin\\appdata\\roaming\\python\\python312\\site-packages (from faker->faker-commerce) (2024.1)\n"
     ]
    },
    {
     "name": "stderr",
     "output_type": "stream",
     "text": [
      "\n",
      "[notice] A new release of pip is available: 24.0 -> 25.0.1\n",
      "[notice] To update, run: python.exe -m pip install --upgrade pip\n"
     ]
    }
   ],
   "source": [
    "'''IMPORTANT: This script only needs to be run once, it installs all of the packages needed'''\n",
    "\n",
    "!pip install pymongo faker\n",
    "!pip install faker-commerce\n",
    "\n",
    "print('Packages installed')"
   ]
  },
  {
   "cell_type": "code",
   "execution_count": 15,
   "metadata": {},
   "outputs": [
    {
     "name": "stdout",
     "output_type": "stream",
     "text": [
      "Inserted 1000 products into the database.\n"
     ]
    }
   ],
   "source": [
    "'''IMPORTANT: Every time this runs, it will add 1000 JSON Objects to the Product Collection'''\n",
    "\n",
    "import random\n",
    "from pymongo import MongoClient\n",
    "from faker import Faker\n",
    "import faker_commerce\n",
    "\n",
    "# Initialize Faker\n",
    "fake = Faker()\n",
    "fake.add_provider(faker_commerce.Provider)\n",
    "\n",
    "# Connect to MongoDB\n",
    "client = MongoClient('mongodb://localhost:27017/')\n",
    "db = client['online_store']\n",
    "collection = db['products']\n",
    "\n",
    "# Function to generate a single product\n",
    "def generate_product(product_id):\n",
    "    categories = ['Electronics', 'Books', 'Clothing', 'Home', 'Toys', 'Sports', 'Beauty']\n",
    "    product = {\n",
    "        'id': product_id,\n",
    "        'name': fake.ecommerce_name(),\n",
    "        'material': fake.ecommerce_material(),\n",
    "        'price': round(random.uniform(5.0, 500.0), 2),\n",
    "        'category': fake.ecommerce_category(),\n",
    "        'rating': round(random.uniform(1.0, 5.0), 1),\n",
    "        'created_at': fake.date_time_this_year()\n",
    "    }\n",
    "    return product\n",
    "\n",
    "# Generate and insert 1000 products with unique IDs\n",
    "products = [generate_product(product_id) for product_id in range(1, 1001)]\n",
    "collection.insert_many(products)\n",
    "\n",
    "print(\"Inserted 1000 products into the database.\")\n"
   ]
  }
 ],
 "metadata": {
  "kernelspec": {
   "display_name": "Python 3",
   "language": "python",
   "name": "python3"
  },
  "language_info": {
   "codemirror_mode": {
    "name": "ipython",
    "version": 3
   },
   "file_extension": ".py",
   "mimetype": "text/x-python",
   "name": "python",
   "nbconvert_exporter": "python",
   "pygments_lexer": "ipython3",
   "version": "3.12.3"
  }
 },
 "nbformat": 4,
 "nbformat_minor": 2
}
